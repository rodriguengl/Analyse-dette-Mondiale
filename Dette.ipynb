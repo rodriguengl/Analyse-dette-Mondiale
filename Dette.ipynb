{
 "cells": [
  {
   "cell_type": "markdown",
   "metadata": {},
   "source": [
    "![](lll.png)"
   ]
  },
  {
   "cell_type": "markdown",
   "metadata": {},
   "source": [
    "Un des fléaux de nos économies modernes à l’échelle mondiale est l’endettement massif de pays qui se plongent dans des remboursements démentiels.\n",
    "Ces données issues de la banque mondiale nous informe sur les différents types d’endettement avec des caractères précis et des indicateurs qui nous enseigne la nature de la dette. Ces données sont globales et regroupe de nombreux pays. Nous allons nous charger de nous intéresser aux politiques d’endettement des pays pour cela nous analyserons les points suivants :\n",
    "\n",
    "Il faudra d’abord nettoyer les données.\n",
    "Combien de pays concérnés?\n",
    "Mieux comprendre les indicateurs de la dette\n",
    "Quel pays est le plus endetté et dans quel secteur?\n",
    "Quels indicateurs reviennent le plus souvent?\n",
    "Quels sont les pays les plus endettés?\n",
    "Quelle niveau de la dette pour les \"pays riches\"?"
   ]
  },
  {
   "cell_type": "code",
   "execution_count": 1,
   "metadata": {},
   "outputs": [],
   "source": [
    "import pandas as pd\n",
    "import numpy as np\n",
    "import matplotlib.pyplot as plt\n",
    "import seaborn as sns\n"
   ]
  },
  {
   "cell_type": "code",
   "execution_count": 55,
   "metadata": {},
   "outputs": [],
   "source": [
    "debt=pd.read_csv(\"international_debt.csv\")\n"
   ]
  },
  {
   "cell_type": "markdown",
   "metadata": {},
   "source": [
    "# Nettoyage de données"
   ]
  },
  {
   "cell_type": "code",
   "execution_count": null,
   "metadata": {},
   "outputs": [],
   "source": [
    "debt.head()"
   ]
  },
  {
   "cell_type": "code",
   "execution_count": 4,
   "metadata": {},
   "outputs": [
    {
     "name": "stdout",
     "output_type": "stream",
     "text": [
      "<class 'pandas.core.frame.DataFrame'>\n",
      "RangeIndex: 2357 entries, 0 to 2356\n",
      "Data columns (total 5 columns):\n",
      "country_name      2357 non-null object\n",
      "country_code      2357 non-null object\n",
      "indicator_name    2357 non-null object\n",
      "indicator_code    2357 non-null object\n",
      "debt              2357 non-null float64\n",
      "dtypes: float64(1), object(4)\n",
      "memory usage: 92.2+ KB\n"
     ]
    }
   ],
   "source": [
    "debt.info()"
   ]
  },
  {
   "cell_type": "code",
   "execution_count": 5,
   "metadata": {},
   "outputs": [
    {
     "data": {
      "text/html": [
       "<div>\n",
       "<style scoped>\n",
       "    .dataframe tbody tr th:only-of-type {\n",
       "        vertical-align: middle;\n",
       "    }\n",
       "\n",
       "    .dataframe tbody tr th {\n",
       "        vertical-align: top;\n",
       "    }\n",
       "\n",
       "    .dataframe thead th {\n",
       "        text-align: right;\n",
       "    }\n",
       "</style>\n",
       "<table border=\"1\" class=\"dataframe\">\n",
       "  <thead>\n",
       "    <tr style=\"text-align: right;\">\n",
       "      <th></th>\n",
       "      <th>debt</th>\n",
       "    </tr>\n",
       "  </thead>\n",
       "  <tbody>\n",
       "    <tr>\n",
       "      <td>count</td>\n",
       "      <td>2.357000e+03</td>\n",
       "    </tr>\n",
       "    <tr>\n",
       "      <td>mean</td>\n",
       "      <td>1.306633e+09</td>\n",
       "    </tr>\n",
       "    <tr>\n",
       "      <td>std</td>\n",
       "      <td>5.226771e+09</td>\n",
       "    </tr>\n",
       "    <tr>\n",
       "      <td>min</td>\n",
       "      <td>0.000000e+00</td>\n",
       "    </tr>\n",
       "    <tr>\n",
       "      <td>25%</td>\n",
       "      <td>1.548248e+07</td>\n",
       "    </tr>\n",
       "    <tr>\n",
       "      <td>50%</td>\n",
       "      <td>1.073140e+08</td>\n",
       "    </tr>\n",
       "    <tr>\n",
       "      <td>75%</td>\n",
       "      <td>5.716575e+08</td>\n",
       "    </tr>\n",
       "    <tr>\n",
       "      <td>max</td>\n",
       "      <td>9.621862e+10</td>\n",
       "    </tr>\n",
       "  </tbody>\n",
       "</table>\n",
       "</div>"
      ],
      "text/plain": [
       "               debt\n",
       "count  2.357000e+03\n",
       "mean   1.306633e+09\n",
       "std    5.226771e+09\n",
       "min    0.000000e+00\n",
       "25%    1.548248e+07\n",
       "50%    1.073140e+08\n",
       "75%    5.716575e+08\n",
       "max    9.621862e+10"
      ]
     },
     "execution_count": 5,
     "metadata": {},
     "output_type": "execute_result"
    }
   ],
   "source": [
    "debt.describe()"
   ]
  },
  {
   "cell_type": "markdown",
   "metadata": {},
   "source": [
    "Combien de pays?"
   ]
  },
  {
   "cell_type": "code",
   "execution_count": 6,
   "metadata": {},
   "outputs": [
    {
     "data": {
      "text/plain": [
       "0"
      ]
     },
     "execution_count": 6,
     "metadata": {},
     "output_type": "execute_result"
    }
   ],
   "source": [
    "debt.isna().sum().sum()\n"
   ]
  },
  {
   "cell_type": "code",
   "execution_count": 7,
   "metadata": {},
   "outputs": [
    {
     "data": {
      "text/plain": [
       "array(['Afghanistan', 'Albania', 'Algeria', 'Angola', 'Armenia',\n",
       "       'Azerbaijan', 'Bangladesh', 'Belarus', 'Belize', 'Benin', 'Bhutan',\n",
       "       'Bolivia', 'Bosnia and Herzegovina', 'Botswana', 'Brazil',\n",
       "       'Bulgaria', 'Burkina Faso', 'Burundi', 'Cabo Verde', 'Cambodia',\n",
       "       'Cameroon', 'Central African Republic', 'Chad', 'China',\n",
       "       'Colombia', 'Comoros', 'Congo, Dem. Rep.', 'Congo, Rep.',\n",
       "       'Costa Rica', \"Cote d'Ivoire\", 'Djibouti', 'Dominica',\n",
       "       'Dominican Republic', 'Georgia', 'Ecuador', 'Egypt, Arab Rep.',\n",
       "       'El Salvador', 'Eritrea', 'Eswatini', 'Ethiopia', 'Fiji', 'Gabon',\n",
       "       'Gambia, The', 'Ghana', 'Grenada', 'Guatemala', 'Guinea',\n",
       "       'Guinea-Bissau', 'Guyana', 'Haiti', 'Honduras', 'IDA only',\n",
       "       'India', 'Indonesia', 'Iran, Islamic Rep.', 'Jamaica', 'Jordan',\n",
       "       'Kazakhstan', 'Kenya', 'Kosovo', 'Kyrgyz Republic', 'Lao PDR',\n",
       "       'Lesotho', 'Least developed countries: UN classification',\n",
       "       'Lebanon', 'Liberia', 'Macedonia, FYR', 'Madagascar', 'Malawi',\n",
       "       'Maldives', 'Mali', 'Mauritania', 'Mauritius', 'Mexico',\n",
       "       'Mongolia', 'Moldova', 'Montenegro', 'Morocco', 'Mozambique',\n",
       "       'Myanmar', 'Nepal', 'Nicaragua', 'Niger', 'Nigeria', 'Pakistan',\n",
       "       'Papua New Guinea', 'Paraguay', 'Peru', 'Philippines', 'Romania',\n",
       "       'Russian Federation', 'Rwanda', 'Samoa', 'Sao Tome and Principe',\n",
       "       'Senegal', 'Serbia', 'Sierra Leone', 'Solomon Islands', 'Somalia',\n",
       "       'South Africa', 'South Asia', 'Sri Lanka', 'St. Lucia',\n",
       "       'St. Vincent and the Grenadines', 'Sudan', 'Syrian Arab Republic',\n",
       "       'Tajikistan', 'Tanzania', 'Thailand', 'Timor-Leste', 'Togo',\n",
       "       'Tonga', 'Tunisia', 'Turkey', 'Turkmenistan', 'Uganda', 'Ukraine',\n",
       "       'Uzbekistan', 'Vanuatu', 'Venezuela, RB', 'Vietnam', 'Yemen, Rep.',\n",
       "       'Zambia', 'Zimbabwe'], dtype=object)"
      ]
     },
     "execution_count": 7,
     "metadata": {},
     "output_type": "execute_result"
    }
   ],
   "source": [
    "debt['country_name'].unique()"
   ]
  },
  {
   "cell_type": "code",
   "execution_count": 8,
   "metadata": {},
   "outputs": [
    {
     "data": {
      "text/plain": [
       "124"
      ]
     },
     "execution_count": 8,
     "metadata": {},
     "output_type": "execute_result"
    }
   ],
   "source": [
    "names = debt['country_name'].nunique()\n",
    "names"
   ]
  },
  {
   "cell_type": "markdown",
   "metadata": {},
   "source": [
    "Combien d'indicateurs?"
   ]
  },
  {
   "cell_type": "code",
   "execution_count": 9,
   "metadata": {},
   "outputs": [
    {
     "data": {
      "text/plain": [
       "array(['DT.DIS.DLXF.CD', 'DT.INT.DLXF.CD', 'DT.AMT.BLAT.CD',\n",
       "       'DT.DIS.BLAT.CD', 'DT.INT.BLAT.CD', 'DT.AMT.MLAT.CD',\n",
       "       'DT.DIS.MLAT.CD', 'DT.INT.MLAT.CD', 'DT.AMT.OFFT.CD',\n",
       "       'DT.DIS.OFFT.CD', 'DT.INT.OFFT.CD', 'DT.AMT.DLXF.CD',\n",
       "       'DT.INT.DPNG.CD', 'DT.AMT.PBND.CD', 'DT.INT.PBND.CD',\n",
       "       'DT.AMT.PCBK.CD', 'DT.DIS.PCBK.CD', 'DT.INT.PCBK.CD',\n",
       "       'DT.AMT.PROP.CD', 'DT.DIS.PROP.CD', 'DT.INT.PROP.CD',\n",
       "       'DT.AMT.PRVT.CD', 'DT.DIS.PRVT.CD', 'DT.INT.PRVT.CD',\n",
       "       'DT.AMT.DPNG.CD'], dtype=object)"
      ]
     },
     "execution_count": 9,
     "metadata": {},
     "output_type": "execute_result"
    }
   ],
   "source": [
    "\n",
    "debt['indicator_code'].unique()"
   ]
  },
  {
   "cell_type": "markdown",
   "metadata": {},
   "source": [
    "# Que signifie ces codes?"
   ]
  },
  {
   "cell_type": "code",
   "execution_count": 10,
   "metadata": {},
   "outputs": [],
   "source": [
    "indicator=debt.drop_duplicates(['indicator_code'])"
   ]
  },
  {
   "cell_type": "code",
   "execution_count": 11,
   "metadata": {},
   "outputs": [
    {
     "data": {
      "text/html": [
       "<div>\n",
       "<style scoped>\n",
       "    .dataframe tbody tr th:only-of-type {\n",
       "        vertical-align: middle;\n",
       "    }\n",
       "\n",
       "    .dataframe tbody tr th {\n",
       "        vertical-align: top;\n",
       "    }\n",
       "\n",
       "    .dataframe thead th {\n",
       "        text-align: right;\n",
       "    }\n",
       "</style>\n",
       "<table border=\"1\" class=\"dataframe\">\n",
       "  <thead>\n",
       "    <tr style=\"text-align: right;\">\n",
       "      <th></th>\n",
       "      <th>indicator_code</th>\n",
       "      <th>indicator_name</th>\n",
       "    </tr>\n",
       "  </thead>\n",
       "  <tbody>\n",
       "    <tr>\n",
       "      <td>0</td>\n",
       "      <td>DT.DIS.DLXF.CD</td>\n",
       "      <td>Disbursements on external debt, long-term (DIS...</td>\n",
       "    </tr>\n",
       "    <tr>\n",
       "      <td>1</td>\n",
       "      <td>DT.INT.DLXF.CD</td>\n",
       "      <td>Interest payments on external debt, long-term ...</td>\n",
       "    </tr>\n",
       "    <tr>\n",
       "      <td>2</td>\n",
       "      <td>DT.AMT.BLAT.CD</td>\n",
       "      <td>PPG, bilateral (AMT, current US$)</td>\n",
       "    </tr>\n",
       "    <tr>\n",
       "      <td>3</td>\n",
       "      <td>DT.DIS.BLAT.CD</td>\n",
       "      <td>PPG, bilateral (DIS, current US$)</td>\n",
       "    </tr>\n",
       "    <tr>\n",
       "      <td>4</td>\n",
       "      <td>DT.INT.BLAT.CD</td>\n",
       "      <td>PPG, bilateral (INT, current US$)</td>\n",
       "    </tr>\n",
       "    <tr>\n",
       "      <td>5</td>\n",
       "      <td>DT.AMT.MLAT.CD</td>\n",
       "      <td>PPG, multilateral (AMT, current US$)</td>\n",
       "    </tr>\n",
       "    <tr>\n",
       "      <td>6</td>\n",
       "      <td>DT.DIS.MLAT.CD</td>\n",
       "      <td>PPG, multilateral (DIS, current US$)</td>\n",
       "    </tr>\n",
       "    <tr>\n",
       "      <td>7</td>\n",
       "      <td>DT.INT.MLAT.CD</td>\n",
       "      <td>PPG, multilateral (INT, current US$)</td>\n",
       "    </tr>\n",
       "    <tr>\n",
       "      <td>8</td>\n",
       "      <td>DT.AMT.OFFT.CD</td>\n",
       "      <td>PPG, official creditors (AMT, current US$)</td>\n",
       "    </tr>\n",
       "    <tr>\n",
       "      <td>9</td>\n",
       "      <td>DT.DIS.OFFT.CD</td>\n",
       "      <td>PPG, official creditors (DIS, current US$)</td>\n",
       "    </tr>\n",
       "    <tr>\n",
       "      <td>10</td>\n",
       "      <td>DT.INT.OFFT.CD</td>\n",
       "      <td>PPG, official creditors (INT, current US$)</td>\n",
       "    </tr>\n",
       "    <tr>\n",
       "      <td>11</td>\n",
       "      <td>DT.AMT.DLXF.CD</td>\n",
       "      <td>Principal repayments on external debt, long-te...</td>\n",
       "    </tr>\n",
       "    <tr>\n",
       "      <td>14</td>\n",
       "      <td>DT.INT.DPNG.CD</td>\n",
       "      <td>Interest payments on external debt, private no...</td>\n",
       "    </tr>\n",
       "    <tr>\n",
       "      <td>18</td>\n",
       "      <td>DT.AMT.PBND.CD</td>\n",
       "      <td>PPG, bonds (AMT, current US$)</td>\n",
       "    </tr>\n",
       "    <tr>\n",
       "      <td>19</td>\n",
       "      <td>DT.INT.PBND.CD</td>\n",
       "      <td>PPG, bonds (INT, current US$)</td>\n",
       "    </tr>\n",
       "    <tr>\n",
       "      <td>20</td>\n",
       "      <td>DT.AMT.PCBK.CD</td>\n",
       "      <td>PPG, commercial banks (AMT, current US$)</td>\n",
       "    </tr>\n",
       "    <tr>\n",
       "      <td>21</td>\n",
       "      <td>DT.DIS.PCBK.CD</td>\n",
       "      <td>PPG, commercial banks (DIS, current US$)</td>\n",
       "    </tr>\n",
       "    <tr>\n",
       "      <td>22</td>\n",
       "      <td>DT.INT.PCBK.CD</td>\n",
       "      <td>PPG, commercial banks (INT, current US$)</td>\n",
       "    </tr>\n",
       "    <tr>\n",
       "      <td>29</td>\n",
       "      <td>DT.AMT.PROP.CD</td>\n",
       "      <td>PPG, other private creditors (AMT, current US$)</td>\n",
       "    </tr>\n",
       "    <tr>\n",
       "      <td>30</td>\n",
       "      <td>DT.DIS.PROP.CD</td>\n",
       "      <td>PPG, other private creditors (DIS, current US$)</td>\n",
       "    </tr>\n",
       "    <tr>\n",
       "      <td>31</td>\n",
       "      <td>DT.INT.PROP.CD</td>\n",
       "      <td>PPG, other private creditors (INT, current US$)</td>\n",
       "    </tr>\n",
       "    <tr>\n",
       "      <td>32</td>\n",
       "      <td>DT.AMT.PRVT.CD</td>\n",
       "      <td>PPG, private creditors (AMT, current US$)</td>\n",
       "    </tr>\n",
       "    <tr>\n",
       "      <td>33</td>\n",
       "      <td>DT.DIS.PRVT.CD</td>\n",
       "      <td>PPG, private creditors (DIS, current US$)</td>\n",
       "    </tr>\n",
       "    <tr>\n",
       "      <td>34</td>\n",
       "      <td>DT.INT.PRVT.CD</td>\n",
       "      <td>PPG, private creditors (INT, current US$)</td>\n",
       "    </tr>\n",
       "    <tr>\n",
       "      <td>36</td>\n",
       "      <td>DT.AMT.DPNG.CD</td>\n",
       "      <td>Principal repayments on external debt, private...</td>\n",
       "    </tr>\n",
       "  </tbody>\n",
       "</table>\n",
       "</div>"
      ],
      "text/plain": [
       "    indicator_code                                     indicator_name\n",
       "0   DT.DIS.DLXF.CD  Disbursements on external debt, long-term (DIS...\n",
       "1   DT.INT.DLXF.CD  Interest payments on external debt, long-term ...\n",
       "2   DT.AMT.BLAT.CD                  PPG, bilateral (AMT, current US$)\n",
       "3   DT.DIS.BLAT.CD                  PPG, bilateral (DIS, current US$)\n",
       "4   DT.INT.BLAT.CD                  PPG, bilateral (INT, current US$)\n",
       "5   DT.AMT.MLAT.CD               PPG, multilateral (AMT, current US$)\n",
       "6   DT.DIS.MLAT.CD               PPG, multilateral (DIS, current US$)\n",
       "7   DT.INT.MLAT.CD               PPG, multilateral (INT, current US$)\n",
       "8   DT.AMT.OFFT.CD         PPG, official creditors (AMT, current US$)\n",
       "9   DT.DIS.OFFT.CD         PPG, official creditors (DIS, current US$)\n",
       "10  DT.INT.OFFT.CD         PPG, official creditors (INT, current US$)\n",
       "11  DT.AMT.DLXF.CD  Principal repayments on external debt, long-te...\n",
       "14  DT.INT.DPNG.CD  Interest payments on external debt, private no...\n",
       "18  DT.AMT.PBND.CD                      PPG, bonds (AMT, current US$)\n",
       "19  DT.INT.PBND.CD                      PPG, bonds (INT, current US$)\n",
       "20  DT.AMT.PCBK.CD           PPG, commercial banks (AMT, current US$)\n",
       "21  DT.DIS.PCBK.CD           PPG, commercial banks (DIS, current US$)\n",
       "22  DT.INT.PCBK.CD           PPG, commercial banks (INT, current US$)\n",
       "29  DT.AMT.PROP.CD    PPG, other private creditors (AMT, current US$)\n",
       "30  DT.DIS.PROP.CD    PPG, other private creditors (DIS, current US$)\n",
       "31  DT.INT.PROP.CD    PPG, other private creditors (INT, current US$)\n",
       "32  DT.AMT.PRVT.CD          PPG, private creditors (AMT, current US$)\n",
       "33  DT.DIS.PRVT.CD          PPG, private creditors (DIS, current US$)\n",
       "34  DT.INT.PRVT.CD          PPG, private creditors (INT, current US$)\n",
       "36  DT.AMT.DPNG.CD  Principal repayments on external debt, private..."
      ]
     },
     "execution_count": 11,
     "metadata": {},
     "output_type": "execute_result"
    }
   ],
   "source": [
    "indicator[['indicator_code','indicator_name']]"
   ]
  },
  {
   "cell_type": "markdown",
   "metadata": {},
   "source": [
    "Montant totale de la dette"
   ]
  },
  {
   "cell_type": "code",
   "execution_count": null,
   "metadata": {},
   "outputs": [],
   "source": [
    "sums=debt[\"debt\"].sum()\n",
    "sums"
   ]
  },
  {
   "cell_type": "code",
   "execution_count": 13,
   "metadata": {},
   "outputs": [
    {
     "data": {
      "text/plain": [
       "(30797344.876758, 2)"
      ]
     },
     "execution_count": 13,
     "metadata": {},
     "output_type": "execute_result"
    }
   ],
   "source": [
    "(sums/100000,2)"
   ]
  },
  {
   "cell_type": "markdown",
   "metadata": {},
   "source": [
    "# Quelle est la plus grande somme?"
   ]
  },
  {
   "cell_type": "code",
   "execution_count": 14,
   "metadata": {},
   "outputs": [
    {
     "data": {
      "text/plain": [
       "96218620835.7"
      ]
     },
     "execution_count": 14,
     "metadata": {},
     "output_type": "execute_result"
    }
   ],
   "source": [
    "debt[\"debt\"].max()"
   ]
  },
  {
   "cell_type": "markdown",
   "metadata": {},
   "source": [
    "Le pays le plus endéttés"
   ]
  },
  {
   "cell_type": "code",
   "execution_count": 15,
   "metadata": {},
   "outputs": [],
   "source": [
    "top_1 = debt['debt'].nlargest(1)"
   ]
  },
  {
   "cell_type": "code",
   "execution_count": 16,
   "metadata": {},
   "outputs": [
    {
     "data": {
      "text/html": [
       "<div>\n",
       "<style scoped>\n",
       "    .dataframe tbody tr th:only-of-type {\n",
       "        vertical-align: middle;\n",
       "    }\n",
       "\n",
       "    .dataframe tbody tr th {\n",
       "        vertical-align: top;\n",
       "    }\n",
       "\n",
       "    .dataframe thead th {\n",
       "        text-align: right;\n",
       "    }\n",
       "</style>\n",
       "<table border=\"1\" class=\"dataframe\">\n",
       "  <thead>\n",
       "    <tr style=\"text-align: right;\">\n",
       "      <th></th>\n",
       "      <th>country_name</th>\n",
       "      <th>country_code</th>\n",
       "      <th>indicator_name</th>\n",
       "      <th>indicator_code</th>\n",
       "      <th>debt</th>\n",
       "    </tr>\n",
       "  </thead>\n",
       "  <tbody>\n",
       "    <tr>\n",
       "      <td>462</td>\n",
       "      <td>China</td>\n",
       "      <td>CHN</td>\n",
       "      <td>Principal repayments on external debt, long-te...</td>\n",
       "      <td>DT.AMT.DLXF.CD</td>\n",
       "      <td>9.621862e+10</td>\n",
       "    </tr>\n",
       "  </tbody>\n",
       "</table>\n",
       "</div>"
      ],
      "text/plain": [
       "    country_name country_code  \\\n",
       "462        China          CHN   \n",
       "\n",
       "                                        indicator_name  indicator_code  \\\n",
       "462  Principal repayments on external debt, long-te...  DT.AMT.DLXF.CD   \n",
       "\n",
       "             debt  \n",
       "462  9.621862e+10  "
      ]
     },
     "execution_count": 16,
     "metadata": {},
     "output_type": "execute_result"
    }
   ],
   "source": [
    "debt[debt['debt'].isin(top_1)]\n",
    "#Chine"
   ]
  },
  {
   "cell_type": "markdown",
   "metadata": {},
   "source": [
    "# Quelle est la moyenne des indicateur de la dette? Quelle indicateur a la plus grande somme?"
   ]
  },
  {
   "cell_type": "code",
   "execution_count": 58,
   "metadata": {
    "scrolled": true
   },
   "outputs": [
    {
     "data": {
      "text/plain": [
       "indicator_name\n",
       "Principal repayments on external debt, long-term (AMT, current US$)                      5.904868e+09\n",
       "Principal repayments on external debt, private nonguaranteed (PNG) (AMT, current US$)    5.161194e+09\n",
       "Disbursements on external debt, long-term (DIS, current US$)                             2.152041e+09\n",
       "PPG, official creditors (DIS, current US$)                                               1.958983e+09\n",
       "PPG, private creditors (AMT, current US$)                                                1.803694e+09\n",
       "Interest payments on external debt, long-term (INT, current US$)                         1.644024e+09\n",
       "PPG, bilateral (DIS, current US$)                                                        1.223139e+09\n",
       "Interest payments on external debt, private nonguaranteed (PNG) (INT, current US$)       1.220411e+09\n",
       "PPG, official creditors (AMT, current US$)                                               1.191188e+09\n",
       "PPG, bonds (AMT, current US$)                                                            1.082624e+09\n",
       "PPG, multilateral (DIS, current US$)                                                     8.398437e+08\n",
       "PPG, bonds (INT, current US$)                                                            8.047334e+08\n",
       "PPG, other private creditors (AMT, current US$)                                          7.468888e+08\n",
       "PPG, commercial banks (AMT, current US$)                                                 7.348687e+08\n",
       "PPG, private creditors (INT, current US$)                                                7.197402e+08\n",
       "PPG, bilateral (AMT, current US$)                                                        7.126196e+08\n",
       "PPG, multilateral (AMT, current US$)                                                     4.900622e+08\n",
       "PPG, private creditors (DIS, current US$)                                                3.113233e+08\n",
       "PPG, official creditors (INT, current US$)                                               2.976773e+08\n",
       "PPG, commercial banks (DIS, current US$)                                                 2.933052e+08\n",
       "PPG, bilateral (INT, current US$)                                                        1.640933e+08\n",
       "PPG, commercial banks (INT, current US$)                                                 1.566476e+08\n",
       "PPG, multilateral (INT, current US$)                                                     1.362307e+08\n",
       "PPG, other private creditors (DIS, current US$)                                          8.113516e+07\n",
       "PPG, other private creditors (INT, current US$)                                          3.425065e+07\n",
       "Name: debt, dtype: float64"
      ]
     },
     "execution_count": 58,
     "metadata": {},
     "output_type": "execute_result"
    }
   ],
   "source": [
    "#Moyenne des sommes des indicateurs, savoir ceux dans quoi les pays depensent\n",
    "means = debt.groupby('indicator_name')['debt'].mean().sort_values(ascending=False)\n",
    "means\n",
    "#Principal repayments on external debt, long-term (AMT, current US$)"
   ]
  },
  {
   "cell_type": "markdown",
   "metadata": {},
   "source": [
    "# Principal repayments on external debt, long-term (AMT, current US$) est l'indicateur avec la somme la pmlus élevée.\n",
    "Quel est le montant pour la Chine?"
   ]
  },
  {
   "cell_type": "code",
   "execution_count": 18,
   "metadata": {
    "scrolled": true
   },
   "outputs": [
    {
     "data": {
      "text/html": [
       "<div>\n",
       "<style scoped>\n",
       "    .dataframe tbody tr th:only-of-type {\n",
       "        vertical-align: middle;\n",
       "    }\n",
       "\n",
       "    .dataframe tbody tr th {\n",
       "        vertical-align: top;\n",
       "    }\n",
       "\n",
       "    .dataframe thead th {\n",
       "        text-align: right;\n",
       "    }\n",
       "</style>\n",
       "<table border=\"1\" class=\"dataframe\">\n",
       "  <thead>\n",
       "    <tr style=\"text-align: right;\">\n",
       "      <th></th>\n",
       "      <th>country_name</th>\n",
       "      <th>country_code</th>\n",
       "      <th>indicator_name</th>\n",
       "      <th>indicator_code</th>\n",
       "      <th>debt</th>\n",
       "    </tr>\n",
       "  </thead>\n",
       "  <tbody>\n",
       "    <tr>\n",
       "      <td>440</td>\n",
       "      <td>China</td>\n",
       "      <td>CHN</td>\n",
       "      <td>Disbursements on external debt, long-term (DIS...</td>\n",
       "      <td>DT.DIS.DLXF.CD</td>\n",
       "      <td>1.569256e+10</td>\n",
       "    </tr>\n",
       "    <tr>\n",
       "      <td>441</td>\n",
       "      <td>China</td>\n",
       "      <td>CHN</td>\n",
       "      <td>Interest payments on external debt, long-term ...</td>\n",
       "      <td>DT.INT.DLXF.CD</td>\n",
       "      <td>1.786655e+10</td>\n",
       "    </tr>\n",
       "    <tr>\n",
       "      <td>442</td>\n",
       "      <td>China</td>\n",
       "      <td>CHN</td>\n",
       "      <td>Interest payments on external debt, private no...</td>\n",
       "      <td>DT.INT.DPNG.CD</td>\n",
       "      <td>1.414272e+10</td>\n",
       "    </tr>\n",
       "    <tr>\n",
       "      <td>443</td>\n",
       "      <td>China</td>\n",
       "      <td>CHN</td>\n",
       "      <td>PPG, bilateral (AMT, current US$)</td>\n",
       "      <td>DT.AMT.BLAT.CD</td>\n",
       "      <td>6.532446e+09</td>\n",
       "    </tr>\n",
       "    <tr>\n",
       "      <td>444</td>\n",
       "      <td>China</td>\n",
       "      <td>CHN</td>\n",
       "      <td>PPG, bilateral (INT, current US$)</td>\n",
       "      <td>DT.INT.BLAT.CD</td>\n",
       "      <td>5.148984e+08</td>\n",
       "    </tr>\n",
       "    <tr>\n",
       "      <td>445</td>\n",
       "      <td>China</td>\n",
       "      <td>CHN</td>\n",
       "      <td>PPG, bonds (AMT, current US$)</td>\n",
       "      <td>DT.AMT.PBND.CD</td>\n",
       "      <td>9.834677e+09</td>\n",
       "    </tr>\n",
       "    <tr>\n",
       "      <td>446</td>\n",
       "      <td>China</td>\n",
       "      <td>CHN</td>\n",
       "      <td>PPG, bonds (INT, current US$)</td>\n",
       "      <td>DT.INT.PBND.CD</td>\n",
       "      <td>1.224249e+09</td>\n",
       "    </tr>\n",
       "    <tr>\n",
       "      <td>447</td>\n",
       "      <td>China</td>\n",
       "      <td>CHN</td>\n",
       "      <td>PPG, commercial banks (AMT, current US$)</td>\n",
       "      <td>DT.AMT.PCBK.CD</td>\n",
       "      <td>4.046243e+09</td>\n",
       "    </tr>\n",
       "    <tr>\n",
       "      <td>448</td>\n",
       "      <td>China</td>\n",
       "      <td>CHN</td>\n",
       "      <td>PPG, commercial banks (DIS, current US$)</td>\n",
       "      <td>DT.DIS.PCBK.CD</td>\n",
       "      <td>3.777050e+09</td>\n",
       "    </tr>\n",
       "    <tr>\n",
       "      <td>449</td>\n",
       "      <td>China</td>\n",
       "      <td>CHN</td>\n",
       "      <td>PPG, commercial banks (INT, current US$)</td>\n",
       "      <td>DT.INT.PCBK.CD</td>\n",
       "      <td>9.699331e+08</td>\n",
       "    </tr>\n",
       "    <tr>\n",
       "      <td>450</td>\n",
       "      <td>China</td>\n",
       "      <td>CHN</td>\n",
       "      <td>PPG, multilateral (AMT, current US$)</td>\n",
       "      <td>DT.AMT.MLAT.CD</td>\n",
       "      <td>2.615724e+09</td>\n",
       "    </tr>\n",
       "    <tr>\n",
       "      <td>451</td>\n",
       "      <td>China</td>\n",
       "      <td>CHN</td>\n",
       "      <td>PPG, multilateral (DIS, current US$)</td>\n",
       "      <td>DT.DIS.MLAT.CD</td>\n",
       "      <td>3.079501e+09</td>\n",
       "    </tr>\n",
       "    <tr>\n",
       "      <td>452</td>\n",
       "      <td>China</td>\n",
       "      <td>CHN</td>\n",
       "      <td>PPG, multilateral (INT, current US$)</td>\n",
       "      <td>DT.INT.MLAT.CD</td>\n",
       "      <td>8.584070e+08</td>\n",
       "    </tr>\n",
       "    <tr>\n",
       "      <td>453</td>\n",
       "      <td>China</td>\n",
       "      <td>CHN</td>\n",
       "      <td>PPG, official creditors (AMT, current US$)</td>\n",
       "      <td>DT.AMT.OFFT.CD</td>\n",
       "      <td>9.148170e+09</td>\n",
       "    </tr>\n",
       "    <tr>\n",
       "      <td>454</td>\n",
       "      <td>China</td>\n",
       "      <td>CHN</td>\n",
       "      <td>PPG, official creditors (DIS, current US$)</td>\n",
       "      <td>DT.DIS.OFFT.CD</td>\n",
       "      <td>3.079501e+09</td>\n",
       "    </tr>\n",
       "    <tr>\n",
       "      <td>455</td>\n",
       "      <td>China</td>\n",
       "      <td>CHN</td>\n",
       "      <td>PPG, official creditors (INT, current US$)</td>\n",
       "      <td>DT.INT.OFFT.CD</td>\n",
       "      <td>1.373305e+09</td>\n",
       "    </tr>\n",
       "    <tr>\n",
       "      <td>456</td>\n",
       "      <td>China</td>\n",
       "      <td>CHN</td>\n",
       "      <td>PPG, other private creditors (AMT, current US$)</td>\n",
       "      <td>DT.AMT.PROP.CD</td>\n",
       "      <td>7.965442e+08</td>\n",
       "    </tr>\n",
       "    <tr>\n",
       "      <td>457</td>\n",
       "      <td>China</td>\n",
       "      <td>CHN</td>\n",
       "      <td>PPG, other private creditors (DIS, current US$)</td>\n",
       "      <td>DT.DIS.PROP.CD</td>\n",
       "      <td>3.340122e+08</td>\n",
       "    </tr>\n",
       "    <tr>\n",
       "      <td>458</td>\n",
       "      <td>China</td>\n",
       "      <td>CHN</td>\n",
       "      <td>PPG, other private creditors (INT, current US$)</td>\n",
       "      <td>DT.INT.PROP.CD</td>\n",
       "      <td>1.563424e+08</td>\n",
       "    </tr>\n",
       "    <tr>\n",
       "      <td>459</td>\n",
       "      <td>China</td>\n",
       "      <td>CHN</td>\n",
       "      <td>PPG, private creditors (AMT, current US$)</td>\n",
       "      <td>DT.AMT.PRVT.CD</td>\n",
       "      <td>1.467746e+10</td>\n",
       "    </tr>\n",
       "    <tr>\n",
       "      <td>460</td>\n",
       "      <td>China</td>\n",
       "      <td>CHN</td>\n",
       "      <td>PPG, private creditors (DIS, current US$)</td>\n",
       "      <td>DT.DIS.PRVT.CD</td>\n",
       "      <td>4.111062e+09</td>\n",
       "    </tr>\n",
       "    <tr>\n",
       "      <td>461</td>\n",
       "      <td>China</td>\n",
       "      <td>CHN</td>\n",
       "      <td>PPG, private creditors (INT, current US$)</td>\n",
       "      <td>DT.INT.PRVT.CD</td>\n",
       "      <td>2.350525e+09</td>\n",
       "    </tr>\n",
       "    <tr>\n",
       "      <td>462</td>\n",
       "      <td>China</td>\n",
       "      <td>CHN</td>\n",
       "      <td>Principal repayments on external debt, long-te...</td>\n",
       "      <td>DT.AMT.DLXF.CD</td>\n",
       "      <td>9.621862e+10</td>\n",
       "    </tr>\n",
       "    <tr>\n",
       "      <td>463</td>\n",
       "      <td>China</td>\n",
       "      <td>CHN</td>\n",
       "      <td>Principal repayments on external debt, private...</td>\n",
       "      <td>DT.AMT.DPNG.CD</td>\n",
       "      <td>7.239299e+10</td>\n",
       "    </tr>\n",
       "  </tbody>\n",
       "</table>\n",
       "</div>"
      ],
      "text/plain": [
       "    country_name country_code  \\\n",
       "440        China          CHN   \n",
       "441        China          CHN   \n",
       "442        China          CHN   \n",
       "443        China          CHN   \n",
       "444        China          CHN   \n",
       "445        China          CHN   \n",
       "446        China          CHN   \n",
       "447        China          CHN   \n",
       "448        China          CHN   \n",
       "449        China          CHN   \n",
       "450        China          CHN   \n",
       "451        China          CHN   \n",
       "452        China          CHN   \n",
       "453        China          CHN   \n",
       "454        China          CHN   \n",
       "455        China          CHN   \n",
       "456        China          CHN   \n",
       "457        China          CHN   \n",
       "458        China          CHN   \n",
       "459        China          CHN   \n",
       "460        China          CHN   \n",
       "461        China          CHN   \n",
       "462        China          CHN   \n",
       "463        China          CHN   \n",
       "\n",
       "                                        indicator_name  indicator_code  \\\n",
       "440  Disbursements on external debt, long-term (DIS...  DT.DIS.DLXF.CD   \n",
       "441  Interest payments on external debt, long-term ...  DT.INT.DLXF.CD   \n",
       "442  Interest payments on external debt, private no...  DT.INT.DPNG.CD   \n",
       "443                  PPG, bilateral (AMT, current US$)  DT.AMT.BLAT.CD   \n",
       "444                  PPG, bilateral (INT, current US$)  DT.INT.BLAT.CD   \n",
       "445                      PPG, bonds (AMT, current US$)  DT.AMT.PBND.CD   \n",
       "446                      PPG, bonds (INT, current US$)  DT.INT.PBND.CD   \n",
       "447           PPG, commercial banks (AMT, current US$)  DT.AMT.PCBK.CD   \n",
       "448           PPG, commercial banks (DIS, current US$)  DT.DIS.PCBK.CD   \n",
       "449           PPG, commercial banks (INT, current US$)  DT.INT.PCBK.CD   \n",
       "450               PPG, multilateral (AMT, current US$)  DT.AMT.MLAT.CD   \n",
       "451               PPG, multilateral (DIS, current US$)  DT.DIS.MLAT.CD   \n",
       "452               PPG, multilateral (INT, current US$)  DT.INT.MLAT.CD   \n",
       "453         PPG, official creditors (AMT, current US$)  DT.AMT.OFFT.CD   \n",
       "454         PPG, official creditors (DIS, current US$)  DT.DIS.OFFT.CD   \n",
       "455         PPG, official creditors (INT, current US$)  DT.INT.OFFT.CD   \n",
       "456    PPG, other private creditors (AMT, current US$)  DT.AMT.PROP.CD   \n",
       "457    PPG, other private creditors (DIS, current US$)  DT.DIS.PROP.CD   \n",
       "458    PPG, other private creditors (INT, current US$)  DT.INT.PROP.CD   \n",
       "459          PPG, private creditors (AMT, current US$)  DT.AMT.PRVT.CD   \n",
       "460          PPG, private creditors (DIS, current US$)  DT.DIS.PRVT.CD   \n",
       "461          PPG, private creditors (INT, current US$)  DT.INT.PRVT.CD   \n",
       "462  Principal repayments on external debt, long-te...  DT.AMT.DLXF.CD   \n",
       "463  Principal repayments on external debt, private...  DT.AMT.DPNG.CD   \n",
       "\n",
       "             debt  \n",
       "440  1.569256e+10  \n",
       "441  1.786655e+10  \n",
       "442  1.414272e+10  \n",
       "443  6.532446e+09  \n",
       "444  5.148984e+08  \n",
       "445  9.834677e+09  \n",
       "446  1.224249e+09  \n",
       "447  4.046243e+09  \n",
       "448  3.777050e+09  \n",
       "449  9.699331e+08  \n",
       "450  2.615724e+09  \n",
       "451  3.079501e+09  \n",
       "452  8.584070e+08  \n",
       "453  9.148170e+09  \n",
       "454  3.079501e+09  \n",
       "455  1.373305e+09  \n",
       "456  7.965442e+08  \n",
       "457  3.340122e+08  \n",
       "458  1.563424e+08  \n",
       "459  1.467746e+10  \n",
       "460  4.111062e+09  \n",
       "461  2.350525e+09  \n",
       "462  9.621862e+10  \n",
       "463  7.239299e+10  "
      ]
     },
     "execution_count": 18,
     "metadata": {},
     "output_type": "execute_result"
    }
   ],
   "source": [
    "debt[(debt['country_name'] == 'China')]\n"
   ]
  },
  {
   "cell_type": "code",
   "execution_count": 19,
   "metadata": {},
   "outputs": [
    {
     "data": {
      "text/html": [
       "<div>\n",
       "<style scoped>\n",
       "    .dataframe tbody tr th:only-of-type {\n",
       "        vertical-align: middle;\n",
       "    }\n",
       "\n",
       "    .dataframe tbody tr th {\n",
       "        vertical-align: top;\n",
       "    }\n",
       "\n",
       "    .dataframe thead th {\n",
       "        text-align: right;\n",
       "    }\n",
       "</style>\n",
       "<table border=\"1\" class=\"dataframe\">\n",
       "  <thead>\n",
       "    <tr style=\"text-align: right;\">\n",
       "      <th></th>\n",
       "      <th>country_name</th>\n",
       "      <th>country_code</th>\n",
       "      <th>indicator_name</th>\n",
       "      <th>indicator_code</th>\n",
       "      <th>debt</th>\n",
       "    </tr>\n",
       "  </thead>\n",
       "  <tbody>\n",
       "    <tr>\n",
       "      <td>440</td>\n",
       "      <td>China</td>\n",
       "      <td>CHN</td>\n",
       "      <td>Disbursements on external debt, long-term (DIS...</td>\n",
       "      <td>DT.DIS.DLXF.CD</td>\n",
       "      <td>1.569256e+10</td>\n",
       "    </tr>\n",
       "  </tbody>\n",
       "</table>\n",
       "</div>"
      ],
      "text/plain": [
       "    country_name country_code  \\\n",
       "440        China          CHN   \n",
       "\n",
       "                                        indicator_name  indicator_code  \\\n",
       "440  Disbursements on external debt, long-term (DIS...  DT.DIS.DLXF.CD   \n",
       "\n",
       "             debt  \n",
       "440  1.569256e+10  "
      ]
     },
     "execution_count": 19,
     "metadata": {},
     "output_type": "execute_result"
    }
   ],
   "source": [
    "debt[(debt['country_name'] == 'China') & (debt['indicator_code'] == 'DT.DIS.DLXF.CD')] "
   ]
  },
  {
   "cell_type": "markdown",
   "metadata": {},
   "source": [
    "Le remboursement sur la dette externe: Le plus grand client..."
   ]
  },
  {
   "cell_type": "code",
   "execution_count": 20,
   "metadata": {},
   "outputs": [
    {
     "data": {
      "text/html": [
       "<div>\n",
       "<style scoped>\n",
       "    .dataframe tbody tr th:only-of-type {\n",
       "        vertical-align: middle;\n",
       "    }\n",
       "\n",
       "    .dataframe tbody tr th {\n",
       "        vertical-align: top;\n",
       "    }\n",
       "\n",
       "    .dataframe thead th {\n",
       "        text-align: right;\n",
       "    }\n",
       "</style>\n",
       "<table border=\"1\" class=\"dataframe\">\n",
       "  <thead>\n",
       "    <tr style=\"text-align: right;\">\n",
       "      <th></th>\n",
       "      <th>country_name</th>\n",
       "      <th>country_code</th>\n",
       "      <th>indicator_name</th>\n",
       "      <th>indicator_code</th>\n",
       "      <th>debt</th>\n",
       "    </tr>\n",
       "  </thead>\n",
       "  <tbody>\n",
       "    <tr>\n",
       "      <td>11</td>\n",
       "      <td>Afghanistan</td>\n",
       "      <td>AFG</td>\n",
       "      <td>Principal repayments on external debt, long-te...</td>\n",
       "      <td>DT.AMT.DLXF.CD</td>\n",
       "      <td>1.008472e+08</td>\n",
       "    </tr>\n",
       "    <tr>\n",
       "      <td>35</td>\n",
       "      <td>Albania</td>\n",
       "      <td>ALB</td>\n",
       "      <td>Principal repayments on external debt, long-te...</td>\n",
       "      <td>DT.AMT.DLXF.CD</td>\n",
       "      <td>7.902487e+08</td>\n",
       "    </tr>\n",
       "    <tr>\n",
       "      <td>54</td>\n",
       "      <td>Algeria</td>\n",
       "      <td>DZA</td>\n",
       "      <td>Principal repayments on external debt, long-te...</td>\n",
       "      <td>DT.AMT.DLXF.CD</td>\n",
       "      <td>1.711852e+08</td>\n",
       "    </tr>\n",
       "    <tr>\n",
       "      <td>77</td>\n",
       "      <td>Angola</td>\n",
       "      <td>AGO</td>\n",
       "      <td>Principal repayments on external debt, long-te...</td>\n",
       "      <td>DT.AMT.DLXF.CD</td>\n",
       "      <td>1.106705e+10</td>\n",
       "    </tr>\n",
       "    <tr>\n",
       "      <td>96</td>\n",
       "      <td>Armenia</td>\n",
       "      <td>ARM</td>\n",
       "      <td>Principal repayments on external debt, long-te...</td>\n",
       "      <td>DT.AMT.DLXF.CD</td>\n",
       "      <td>8.456307e+08</td>\n",
       "    </tr>\n",
       "    <tr>\n",
       "      <td>...</td>\n",
       "      <td>...</td>\n",
       "      <td>...</td>\n",
       "      <td>...</td>\n",
       "      <td>...</td>\n",
       "      <td>...</td>\n",
       "    </tr>\n",
       "    <tr>\n",
       "      <td>2282</td>\n",
       "      <td>Venezuela, RB</td>\n",
       "      <td>VEN</td>\n",
       "      <td>Principal repayments on external debt, long-te...</td>\n",
       "      <td>DT.AMT.DLXF.CD</td>\n",
       "      <td>9.878659e+09</td>\n",
       "    </tr>\n",
       "    <tr>\n",
       "      <td>2304</td>\n",
       "      <td>Vietnam</td>\n",
       "      <td>VNM</td>\n",
       "      <td>Principal repayments on external debt, long-te...</td>\n",
       "      <td>DT.AMT.DLXF.CD</td>\n",
       "      <td>8.873506e+09</td>\n",
       "    </tr>\n",
       "    <tr>\n",
       "      <td>2317</td>\n",
       "      <td>Yemen, Rep.</td>\n",
       "      <td>YEM</td>\n",
       "      <td>Principal repayments on external debt, long-te...</td>\n",
       "      <td>DT.AMT.DLXF.CD</td>\n",
       "      <td>3.708302e+08</td>\n",
       "    </tr>\n",
       "    <tr>\n",
       "      <td>2341</td>\n",
       "      <td>Zambia</td>\n",
       "      <td>ZMB</td>\n",
       "      <td>Principal repayments on external debt, long-te...</td>\n",
       "      <td>DT.AMT.DLXF.CD</td>\n",
       "      <td>1.217643e+09</td>\n",
       "    </tr>\n",
       "    <tr>\n",
       "      <td>2355</td>\n",
       "      <td>Zimbabwe</td>\n",
       "      <td>ZWE</td>\n",
       "      <td>Principal repayments on external debt, long-te...</td>\n",
       "      <td>DT.AMT.DLXF.CD</td>\n",
       "      <td>4.616323e+08</td>\n",
       "    </tr>\n",
       "  </tbody>\n",
       "</table>\n",
       "<p>124 rows × 5 columns</p>\n",
       "</div>"
      ],
      "text/plain": [
       "       country_name country_code  \\\n",
       "11      Afghanistan          AFG   \n",
       "35          Albania          ALB   \n",
       "54          Algeria          DZA   \n",
       "77           Angola          AGO   \n",
       "96          Armenia          ARM   \n",
       "...             ...          ...   \n",
       "2282  Venezuela, RB          VEN   \n",
       "2304        Vietnam          VNM   \n",
       "2317    Yemen, Rep.          YEM   \n",
       "2341         Zambia          ZMB   \n",
       "2355       Zimbabwe          ZWE   \n",
       "\n",
       "                                         indicator_name  indicator_code  \\\n",
       "11    Principal repayments on external debt, long-te...  DT.AMT.DLXF.CD   \n",
       "35    Principal repayments on external debt, long-te...  DT.AMT.DLXF.CD   \n",
       "54    Principal repayments on external debt, long-te...  DT.AMT.DLXF.CD   \n",
       "77    Principal repayments on external debt, long-te...  DT.AMT.DLXF.CD   \n",
       "96    Principal repayments on external debt, long-te...  DT.AMT.DLXF.CD   \n",
       "...                                                 ...             ...   \n",
       "2282  Principal repayments on external debt, long-te...  DT.AMT.DLXF.CD   \n",
       "2304  Principal repayments on external debt, long-te...  DT.AMT.DLXF.CD   \n",
       "2317  Principal repayments on external debt, long-te...  DT.AMT.DLXF.CD   \n",
       "2341  Principal repayments on external debt, long-te...  DT.AMT.DLXF.CD   \n",
       "2355  Principal repayments on external debt, long-te...  DT.AMT.DLXF.CD   \n",
       "\n",
       "              debt  \n",
       "11    1.008472e+08  \n",
       "35    7.902487e+08  \n",
       "54    1.711852e+08  \n",
       "77    1.106705e+10  \n",
       "96    8.456307e+08  \n",
       "...            ...  \n",
       "2282  9.878659e+09  \n",
       "2304  8.873506e+09  \n",
       "2317  3.708302e+08  \n",
       "2341  1.217643e+09  \n",
       "2355  4.616323e+08  \n",
       "\n",
       "[124 rows x 5 columns]"
      ]
     },
     "execution_count": 20,
     "metadata": {},
     "output_type": "execute_result"
    }
   ],
   "source": [
    "max_type=debt[(debt['indicator_code'] == 'DT.AMT.DLXF.CD')]\n",
    "max_type"
   ]
  },
  {
   "cell_type": "code",
   "execution_count": 21,
   "metadata": {},
   "outputs": [
    {
     "data": {
      "text/plain": [
       "96218620835.7"
      ]
     },
     "execution_count": 21,
     "metadata": {},
     "output_type": "execute_result"
    }
   ],
   "source": [
    "max_type['debt'].max()"
   ]
  },
  {
   "cell_type": "code",
   "execution_count": 22,
   "metadata": {},
   "outputs": [],
   "source": [
    "maxi = max_type.loc[max_type.groupby('country_name')['debt'].idxmax()]"
   ]
  },
  {
   "cell_type": "code",
   "execution_count": 63,
   "metadata": {},
   "outputs": [
    {
     "data": {
      "text/plain": [
       "462    9.621862e+10\n",
       "Name: debt, dtype: float64"
      ]
     },
     "execution_count": 63,
     "metadata": {},
     "output_type": "execute_result"
    }
   ],
   "source": [
    "top_1 = maxi['debt'].nlargest(1)\n",
    "top_1"
   ]
  },
  {
   "cell_type": "code",
   "execution_count": 64,
   "metadata": {},
   "outputs": [
    {
     "data": {
      "text/html": [
       "<div>\n",
       "<style scoped>\n",
       "    .dataframe tbody tr th:only-of-type {\n",
       "        vertical-align: middle;\n",
       "    }\n",
       "\n",
       "    .dataframe tbody tr th {\n",
       "        vertical-align: top;\n",
       "    }\n",
       "\n",
       "    .dataframe thead th {\n",
       "        text-align: right;\n",
       "    }\n",
       "</style>\n",
       "<table border=\"1\" class=\"dataframe\">\n",
       "  <thead>\n",
       "    <tr style=\"text-align: right;\">\n",
       "      <th></th>\n",
       "      <th>country_name</th>\n",
       "      <th>country_code</th>\n",
       "      <th>indicator_name</th>\n",
       "      <th>indicator_code</th>\n",
       "      <th>debt</th>\n",
       "    </tr>\n",
       "  </thead>\n",
       "  <tbody>\n",
       "    <tr>\n",
       "      <td>462</td>\n",
       "      <td>China</td>\n",
       "      <td>CHN</td>\n",
       "      <td>Principal repayments on external debt, long-te...</td>\n",
       "      <td>DT.AMT.DLXF.CD</td>\n",
       "      <td>9.621862e+10</td>\n",
       "    </tr>\n",
       "  </tbody>\n",
       "</table>\n",
       "</div>"
      ],
      "text/plain": [
       "    country_name country_code  \\\n",
       "462        China          CHN   \n",
       "\n",
       "                                        indicator_name  indicator_code  \\\n",
       "462  Principal repayments on external debt, long-te...  DT.AMT.DLXF.CD   \n",
       "\n",
       "             debt  \n",
       "462  9.621862e+10  "
      ]
     },
     "execution_count": 64,
     "metadata": {},
     "output_type": "execute_result"
    }
   ],
   "source": [
    "maxi[maxi['debt'].isin(top_1)]"
   ]
  },
  {
   "cell_type": "markdown",
   "metadata": {},
   "source": [
    "Quels indicateurs reviennent le plus?"
   ]
  },
  {
   "cell_type": "code",
   "execution_count": 25,
   "metadata": {
    "scrolled": true
   },
   "outputs": [
    {
     "data": {
      "text/plain": [
       "indicator_name\n",
       "Disbursements on external debt, long-term (DIS, current US$)                             123\n",
       "Interest payments on external debt, long-term (INT, current US$)                         124\n",
       "Interest payments on external debt, private nonguaranteed (PNG) (INT, current US$)        79\n",
       "PPG, bilateral (AMT, current US$)                                                        122\n",
       "PPG, bilateral (DIS, current US$)                                                        113\n",
       "PPG, bilateral (INT, current US$)                                                        122\n",
       "PPG, bonds (AMT, current US$)                                                             69\n",
       "PPG, bonds (INT, current US$)                                                             69\n",
       "PPG, commercial banks (AMT, current US$)                                                  84\n",
       "PPG, commercial banks (DIS, current US$)                                                  51\n",
       "PPG, commercial banks (INT, current US$)                                                  84\n",
       "PPG, multilateral (AMT, current US$)                                                     124\n",
       "PPG, multilateral (DIS, current US$)                                                     120\n",
       "PPG, multilateral (INT, current US$)                                                     124\n",
       "PPG, official creditors (AMT, current US$)                                               124\n",
       "PPG, official creditors (DIS, current US$)                                               122\n",
       "PPG, official creditors (INT, current US$)                                               124\n",
       "PPG, other private creditors (AMT, current US$)                                           54\n",
       "PPG, other private creditors (DIS, current US$)                                           19\n",
       "PPG, other private creditors (INT, current US$)                                           54\n",
       "PPG, private creditors (AMT, current US$)                                                 98\n",
       "PPG, private creditors (DIS, current US$)                                                 53\n",
       "PPG, private creditors (INT, current US$)                                                 98\n",
       "Principal repayments on external debt, long-term (AMT, current US$)                      124\n",
       "Principal repayments on external debt, private nonguaranteed (PNG) (AMT, current US$)     79\n",
       "Name: country_name, dtype: int64"
      ]
     },
     "execution_count": 25,
     "metadata": {},
     "output_type": "execute_result"
    }
   ],
   "source": [
    "#8. The most common debt indicator¶\n",
    "\n",
    "debt.groupby('indicator_name')['country_name'].nunique()"
   ]
  },
  {
   "cell_type": "markdown",
   "metadata": {},
   "source": [
    "Les 10 pays les plus touchés"
   ]
  },
  {
   "cell_type": "code",
   "execution_count": 61,
   "metadata": {
    "scrolled": true
   },
   "outputs": [],
   "source": [
    "top_10 = debt.sort_values('debt', ascending=False).drop_duplicates('country_name').head(10)\n"
   ]
  },
  {
   "cell_type": "code",
   "execution_count": 27,
   "metadata": {},
   "outputs": [
    {
     "data": {
      "text/html": [
       "<div>\n",
       "<style scoped>\n",
       "    .dataframe tbody tr th:only-of-type {\n",
       "        vertical-align: middle;\n",
       "    }\n",
       "\n",
       "    .dataframe tbody tr th {\n",
       "        vertical-align: top;\n",
       "    }\n",
       "\n",
       "    .dataframe thead th {\n",
       "        text-align: right;\n",
       "    }\n",
       "</style>\n",
       "<table border=\"1\" class=\"dataframe\">\n",
       "  <thead>\n",
       "    <tr style=\"text-align: right;\">\n",
       "      <th></th>\n",
       "      <th>country_name</th>\n",
       "      <th>debt</th>\n",
       "    </tr>\n",
       "  </thead>\n",
       "  <tbody>\n",
       "    <tr>\n",
       "      <td>462</td>\n",
       "      <td>China</td>\n",
       "      <td>9.621862e+10</td>\n",
       "    </tr>\n",
       "    <tr>\n",
       "      <td>304</td>\n",
       "      <td>Brazil</td>\n",
       "      <td>9.004184e+10</td>\n",
       "    </tr>\n",
       "    <tr>\n",
       "      <td>1785</td>\n",
       "      <td>Russian Federation</td>\n",
       "      <td>6.658976e+10</td>\n",
       "    </tr>\n",
       "    <tr>\n",
       "      <td>2179</td>\n",
       "      <td>Turkey</td>\n",
       "      <td>5.155503e+10</td>\n",
       "    </tr>\n",
       "    <tr>\n",
       "      <td>1954</td>\n",
       "      <td>South Asia</td>\n",
       "      <td>4.875630e+10</td>\n",
       "    </tr>\n",
       "    <tr>\n",
       "      <td>1221</td>\n",
       "      <td>Least developed countries: UN classification</td>\n",
       "      <td>4.016077e+10</td>\n",
       "    </tr>\n",
       "    <tr>\n",
       "      <td>986</td>\n",
       "      <td>IDA only</td>\n",
       "      <td>3.453119e+10</td>\n",
       "    </tr>\n",
       "    <tr>\n",
       "      <td>1033</td>\n",
       "      <td>India</td>\n",
       "      <td>3.192351e+10</td>\n",
       "    </tr>\n",
       "    <tr>\n",
       "      <td>1058</td>\n",
       "      <td>Indonesia</td>\n",
       "      <td>3.091611e+10</td>\n",
       "    </tr>\n",
       "    <tr>\n",
       "      <td>1137</td>\n",
       "      <td>Kazakhstan</td>\n",
       "      <td>2.748209e+10</td>\n",
       "    </tr>\n",
       "  </tbody>\n",
       "</table>\n",
       "</div>"
      ],
      "text/plain": [
       "                                      country_name          debt\n",
       "462                                          China  9.621862e+10\n",
       "304                                         Brazil  9.004184e+10\n",
       "1785                            Russian Federation  6.658976e+10\n",
       "2179                                        Turkey  5.155503e+10\n",
       "1954                                    South Asia  4.875630e+10\n",
       "1221  Least developed countries: UN classification  4.016077e+10\n",
       "986                                       IDA only  3.453119e+10\n",
       "1033                                         India  3.192351e+10\n",
       "1058                                     Indonesia  3.091611e+10\n",
       "1137                                    Kazakhstan  2.748209e+10"
      ]
     },
     "execution_count": 27,
     "metadata": {},
     "output_type": "execute_result"
    }
   ],
   "source": [
    "top_10_clean=top_10.drop(columns=['country_code', 'indicator_name','indicator_code'])\n",
    "top_10_clean"
   ]
  },
  {
   "cell_type": "code",
   "execution_count": 28,
   "metadata": {},
   "outputs": [
    {
     "data": {
      "text/html": [
       "<div>\n",
       "<style scoped>\n",
       "    .dataframe tbody tr th:only-of-type {\n",
       "        vertical-align: middle;\n",
       "    }\n",
       "\n",
       "    .dataframe tbody tr th {\n",
       "        vertical-align: top;\n",
       "    }\n",
       "\n",
       "    .dataframe thead th {\n",
       "        text-align: right;\n",
       "    }\n",
       "</style>\n",
       "<table border=\"1\" class=\"dataframe\">\n",
       "  <thead>\n",
       "    <tr style=\"text-align: right;\">\n",
       "      <th></th>\n",
       "      <th>debt</th>\n",
       "    </tr>\n",
       "    <tr>\n",
       "      <th>country_name</th>\n",
       "      <th></th>\n",
       "    </tr>\n",
       "  </thead>\n",
       "  <tbody>\n",
       "    <tr>\n",
       "      <td>China</td>\n",
       "      <td>9.621862e+10</td>\n",
       "    </tr>\n",
       "    <tr>\n",
       "      <td>Brazil</td>\n",
       "      <td>9.004184e+10</td>\n",
       "    </tr>\n",
       "    <tr>\n",
       "      <td>Russian Federation</td>\n",
       "      <td>6.658976e+10</td>\n",
       "    </tr>\n",
       "    <tr>\n",
       "      <td>Turkey</td>\n",
       "      <td>5.155503e+10</td>\n",
       "    </tr>\n",
       "    <tr>\n",
       "      <td>South Asia</td>\n",
       "      <td>4.875630e+10</td>\n",
       "    </tr>\n",
       "    <tr>\n",
       "      <td>Least developed countries: UN classification</td>\n",
       "      <td>4.016077e+10</td>\n",
       "    </tr>\n",
       "    <tr>\n",
       "      <td>IDA only</td>\n",
       "      <td>3.453119e+10</td>\n",
       "    </tr>\n",
       "    <tr>\n",
       "      <td>India</td>\n",
       "      <td>3.192351e+10</td>\n",
       "    </tr>\n",
       "    <tr>\n",
       "      <td>Indonesia</td>\n",
       "      <td>3.091611e+10</td>\n",
       "    </tr>\n",
       "    <tr>\n",
       "      <td>Kazakhstan</td>\n",
       "      <td>2.748209e+10</td>\n",
       "    </tr>\n",
       "  </tbody>\n",
       "</table>\n",
       "</div>"
      ],
      "text/plain": [
       "                                                      debt\n",
       "country_name                                              \n",
       "China                                         9.621862e+10\n",
       "Brazil                                        9.004184e+10\n",
       "Russian Federation                            6.658976e+10\n",
       "Turkey                                        5.155503e+10\n",
       "South Asia                                    4.875630e+10\n",
       "Least developed countries: UN classification  4.016077e+10\n",
       "IDA only                                      3.453119e+10\n",
       "India                                         3.192351e+10\n",
       "Indonesia                                     3.091611e+10\n",
       "Kazakhstan                                    2.748209e+10"
      ]
     },
     "execution_count": 28,
     "metadata": {},
     "output_type": "execute_result"
    }
   ],
   "source": [
    "data_with_index = top_10_clean.set_index(\"country_name\")\n",
    "data_with_index"
   ]
  },
  {
   "cell_type": "markdown",
   "metadata": {},
   "source": [
    "Représentation Graphique"
   ]
  },
  {
   "cell_type": "code",
   "execution_count": 30,
   "metadata": {},
   "outputs": [
    {
     "data": {
      "text/plain": [
       "Text(0, 0.5, 'Pays')"
      ]
     },
     "execution_count": 30,
     "metadata": {},
     "output_type": "execute_result"
    },
    {
     "data": {
      "image/png": "[encoded data removed]",
      "text/plain": [
       "<Figure size 720x432 with 1 Axes>"
      ]
     },
     "metadata": {
      "needs_background": "light"
     },
     "output_type": "display_data"
    }
   ],
   "source": [
    "import matplotlib.pyplot as plt\n",
    "\n",
    "plt.figure(figsize=(10,6))\n",
    "ax=data_with_index['debt'].sort_values(ascending=False).head(10).plot(kind='barh')\n",
    "ax.set_xticklabels(ax.get_xticklabels(), rotation=45)\n",
    "ax.set_title(\"Endettement\")\n",
    "ax.set_xlabel(\"Niveau de la dette\")\n",
    "ax.set_ylabel(\"Pays\")"
   ]
  },
  {
   "cell_type": "markdown",
   "metadata": {},
   "source": [
    "# Niveau de dette des pays riches\n"
   ]
  },
  {
   "cell_type": "code",
   "execution_count": 32,
   "metadata": {},
   "outputs": [],
   "source": [
    "df1 = debt[(debt['country_name'] == 'Nigeria') & (debt['indicator_code'] == 'DT.DIS.DLXF.CD')]"
   ]
  },
  {
   "cell_type": "code",
   "execution_count": 33,
   "metadata": {},
   "outputs": [],
   "source": [
    "df2 = debt[(debt['country_name'] == 'South Africa') & (debt['indicator_code'] == 'DT.DIS.DLXF.CD')]"
   ]
  },
  {
   "cell_type": "code",
   "execution_count": 34,
   "metadata": {},
   "outputs": [],
   "source": [
    "df3 = debt[(debt['country_name'] == 'Angola') & (debt['indicator_code'] == 'DT.DIS.DLXF.CD')]"
   ]
  },
  {
   "cell_type": "code",
   "execution_count": 35,
   "metadata": {},
   "outputs": [
    {
     "data": {
      "text/html": [
       "<div>\n",
       "<style scoped>\n",
       "    .dataframe tbody tr th:only-of-type {\n",
       "        vertical-align: middle;\n",
       "    }\n",
       "\n",
       "    .dataframe tbody tr th {\n",
       "        vertical-align: top;\n",
       "    }\n",
       "\n",
       "    .dataframe thead th {\n",
       "        text-align: right;\n",
       "    }\n",
       "</style>\n",
       "<table border=\"1\" class=\"dataframe\">\n",
       "  <thead>\n",
       "    <tr style=\"text-align: right;\">\n",
       "      <th></th>\n",
       "      <th>country_name</th>\n",
       "      <th>country_code</th>\n",
       "      <th>indicator_name</th>\n",
       "      <th>indicator_code</th>\n",
       "      <th>debt</th>\n",
       "    </tr>\n",
       "  </thead>\n",
       "  <tbody>\n",
       "    <tr>\n",
       "      <td>1619</td>\n",
       "      <td>Nigeria</td>\n",
       "      <td>NGA</td>\n",
       "      <td>Disbursements on external debt, long-term (DIS...</td>\n",
       "      <td>DT.DIS.DLXF.CD</td>\n",
       "      <td>1.642511e+09</td>\n",
       "    </tr>\n",
       "    <tr>\n",
       "      <td>1911</td>\n",
       "      <td>South Africa</td>\n",
       "      <td>ZAF</td>\n",
       "      <td>Disbursements on external debt, long-term (DIS...</td>\n",
       "      <td>DT.DIS.DLXF.CD</td>\n",
       "      <td>7.147626e+08</td>\n",
       "    </tr>\n",
       "    <tr>\n",
       "      <td>56</td>\n",
       "      <td>Angola</td>\n",
       "      <td>AGO</td>\n",
       "      <td>Disbursements on external debt, long-term (DIS...</td>\n",
       "      <td>DT.DIS.DLXF.CD</td>\n",
       "      <td>1.092402e+10</td>\n",
       "    </tr>\n",
       "  </tbody>\n",
       "</table>\n",
       "</div>"
      ],
      "text/plain": [
       "      country_name country_code  \\\n",
       "1619       Nigeria          NGA   \n",
       "1911  South Africa          ZAF   \n",
       "56          Angola          AGO   \n",
       "\n",
       "                                         indicator_name  indicator_code  \\\n",
       "1619  Disbursements on external debt, long-term (DIS...  DT.DIS.DLXF.CD   \n",
       "1911  Disbursements on external debt, long-term (DIS...  DT.DIS.DLXF.CD   \n",
       "56    Disbursements on external debt, long-term (DIS...  DT.DIS.DLXF.CD   \n",
       "\n",
       "              debt  \n",
       "1619  1.642511e+09  \n",
       "1911  7.147626e+08  \n",
       "56    1.092402e+10  "
      ]
     },
     "execution_count": 35,
     "metadata": {},
     "output_type": "execute_result"
    }
   ],
   "source": [
    "africa_debt = df1.append([df2, df3])\n",
    "africa_debt"
   ]
  },
  {
   "cell_type": "code",
   "execution_count": 54,
   "metadata": {},
   "outputs": [
    {
     "data": {
      "text/html": [
       "<div>\n",
       "<style scoped>\n",
       "    .dataframe tbody tr th:only-of-type {\n",
       "        vertical-align: middle;\n",
       "    }\n",
       "\n",
       "    .dataframe tbody tr th {\n",
       "        vertical-align: top;\n",
       "    }\n",
       "\n",
       "    .dataframe thead th {\n",
       "        text-align: right;\n",
       "    }\n",
       "</style>\n",
       "<table border=\"1\" class=\"dataframe\">\n",
       "  <thead>\n",
       "    <tr style=\"text-align: right;\">\n",
       "      <th></th>\n",
       "      <th>country_name</th>\n",
       "      <th>country_code</th>\n",
       "      <th>indicator_name</th>\n",
       "      <th>indicator_code</th>\n",
       "      <th>debt</th>\n",
       "    </tr>\n",
       "  </thead>\n",
       "  <tbody>\n",
       "  </tbody>\n",
       "</table>\n",
       "</div>"
      ],
      "text/plain": [
       "Empty DataFrame\n",
       "Columns: [country_name, country_code, indicator_name, indicator_code, debt]\n",
       "Index: []"
      ]
     },
     "execution_count": 54,
     "metadata": {},
     "output_type": "execute_result"
    }
   ],
   "source": []
  },
  {
   "cell_type": "code",
   "execution_count": null,
   "metadata": {},
   "outputs": [],
   "source": []
  }
 ],
 "metadata": {
  "kernelspec": {
   "display_name": "Python 3",
   "language": "python",
   "name": "python3"
  },
  "language_info": {
   "codemirror_mode": {
    "name": "ipython",
    "version": 3
   },
   "file_extension": ".py",
   "mimetype": "text/x-python",
   "name": "python",
   "nbconvert_exporter": "python",
   "pygments_lexer": "ipython3",
   "version": "3.7.4"
  }
 },
 "nbformat": 4,
 "nbformat_minor": 4
}
